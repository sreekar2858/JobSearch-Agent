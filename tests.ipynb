{
 "cells": [
  {
   "cell_type": "code",
   "execution_count": 1,
   "id": "4148655f",
   "metadata": {},
   "outputs": [],
   "source": [
    "import yaml\n",
    "import logging\n",
    "with open(\"config/config.yaml\", \"r\") as file:\n",
    "    config = yaml.safe_load(file)"
   ]
  },
  {
   "cell_type": "code",
   "execution_count": 15,
   "id": "773735a2",
   "metadata": {},
   "outputs": [
    {
     "name": "stdout",
     "output_type": "stream",
     "text": [
      "github/gpt-4.1\n"
     ]
    }
   ],
   "source": [
    "print(config['models']['gemini_2.5_flash']) \\\n",
    "if 'gemini' in config.get('final_draft_model') \\\n",
    "else print(config['models'][config.get('final_draft_model')])"
   ]
  },
  {
   "cell_type": "code",
   "execution_count": 10,
   "id": "76a13e8a",
   "metadata": {},
   "outputs": [],
   "source": [
    "config.get('gpt_41')"
   ]
  },
  {
   "cell_type": "code",
   "execution_count": 17,
   "id": "62050e04",
   "metadata": {},
   "outputs": [
    {
     "data": {
      "text/plain": [
       "dict"
      ]
     },
     "execution_count": 17,
     "metadata": {},
     "output_type": "execute_result"
    }
   ],
   "source": [
    "type(config)"
   ]
  },
  {
   "cell_type": "code",
   "execution_count": 30,
   "id": "292dbc4a",
   "metadata": {},
   "outputs": [
    {
     "data": {
      "text/plain": [
       "'full-time'"
      ]
     },
     "execution_count": 30,
     "metadata": {},
     "output_type": "execute_result"
    }
   ],
   "source": [
    "config.get(\"job_type\", \"\")"
   ]
  },
  {
   "cell_type": "code",
   "execution_count": 22,
   "id": "de081a82",
   "metadata": {},
   "outputs": [],
   "source": [
    "from docx import Document\n",
    "\n",
    "# read the document\n",
    "doc = Document(\"data/SajjalaSreekarReddy_CV.docx\")"
   ]
  },
  {
   "cell_type": "code",
   "execution_count": 7,
   "id": "a1d898b1",
   "metadata": {},
   "outputs": [],
   "source": [
    "# get the text from the document as one string\n",
    "text = \"\\n\".join([p.text for p in doc.paragraphs if p.text.strip() != \"\"])"
   ]
  },
  {
   "cell_type": "code",
   "execution_count": 16,
   "id": "48101723",
   "metadata": {},
   "outputs": [
    {
     "name": "stdout",
     "output_type": "stream",
     "text": [
      "Number of pages: 1\n"
     ]
    }
   ],
   "source": [
    "num_pages = sum(p.contains_page_break for p in doc.paragraphs) + 1\n",
    "print(f\"Number of pages: {num_pages}\")"
   ]
  },
  {
   "cell_type": "code",
   "execution_count": 23,
   "id": "56683895",
   "metadata": {},
   "outputs": [],
   "source": [
    "# modify the text in the document (preserving formatting)\n",
    "for p in doc.paragraphs:\n",
    "    for run in p.runs:\n",
    "        if \"Sreekar Reddy Sajjala\" in run.text:\n",
    "            run.text = run.text.replace(\n",
    "                \"Sreekar Reddy Sajjala\",\n",
    "                \"Sreekar Reddy Sajjala (Modified)\"\n",
    "            )\n",
    "            break\n",
    "\n",
    "# save the modified document\n",
    "doc.save(\"data/SajjalaSreekarReddy_CV_modified.docx\")"
   ]
  }
 ],
 "metadata": {
  "kernelspec": {
   "display_name": "Python 3",
   "language": "python",
   "name": "python3"
  },
  "language_info": {
   "codemirror_mode": {
    "name": "ipython",
    "version": 3
   },
   "file_extension": ".py",
   "mimetype": "text/x-python",
   "name": "python",
   "nbconvert_exporter": "python",
   "pygments_lexer": "ipython3",
   "version": "3.13.2"
  }
 },
 "nbformat": 4,
 "nbformat_minor": 5
}
