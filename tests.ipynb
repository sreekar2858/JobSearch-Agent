{
 "cells": [
  {
   "cell_type": "code",
   "execution_count": 1,
   "id": "4148655f",
   "metadata": {},
   "outputs": [],
   "source": [
    "import yaml\n",
    "import logging\n",
    "with open(\"config/config.yaml\", \"r\") as file:\n",
    "    config = yaml.safe_load(file)"
   ]
  },
  {
   "cell_type": "code",
   "execution_count": 15,
   "id": "773735a2",
   "metadata": {},
   "outputs": [
    {
     "name": "stdout",
     "output_type": "stream",
     "text": [
      "github/gpt-4.1\n"
     ]
    }
   ],
   "source": [
    "print(config['models']['gemini_2.5_flash']) \\\n",
    "if 'gemini' in config.get('final_draft_model') \\\n",
    "else print(config['models'][config.get('final_draft_model')])"
   ]
  },
  {
   "cell_type": "code",
   "execution_count": 10,
   "id": "76a13e8a",
   "metadata": {},
   "outputs": [],
   "source": [
    "config.get('gpt_41')"
   ]
  },
  {
   "cell_type": "code",
   "execution_count": 17,
   "id": "62050e04",
   "metadata": {},
   "outputs": [
    {
     "data": {
      "text/plain": [
       "dict"
      ]
     },
     "execution_count": 17,
     "metadata": {},
     "output_type": "execute_result"
    }
   ],
   "source": [
    "type(config)"
   ]
  },
  {
   "cell_type": "code",
   "execution_count": 30,
   "id": "292dbc4a",
   "metadata": {},
   "outputs": [
    {
     "data": {
      "text/plain": [
       "'full-time'"
      ]
     },
     "execution_count": 30,
     "metadata": {},
     "output_type": "execute_result"
    }
   ],
   "source": [
    "config.get(\"job_type\", \"\")"
   ]
  },
  {
   "cell_type": "code",
   "execution_count": 6,
   "id": "5b084f10",
   "metadata": {},
   "outputs": [],
   "source": [
    "with open(\"data/SajjalaSreekarReddy_CV.txt\", 'r', encoding='utf-8') as f:\n",
    "    cv=f.read()"
   ]
  },
  {
   "cell_type": "code",
   "execution_count": 7,
   "id": "aef34329",
   "metadata": {},
   "outputs": [
    {
     "data": {
      "text/plain": [
       "str"
      ]
     },
     "execution_count": 7,
     "metadata": {},
     "output_type": "execute_result"
    }
   ],
   "source": [
    "type(cv)"
   ]
  },
  {
   "cell_type": "code",
   "execution_count": 7,
   "id": "add40530",
   "metadata": {},
   "outputs": [],
   "source": [
    "text = \"{\\n  \\\"job_title\\\": \\\"Engineer Modeling & Validation of Wind Turbine Simulation Models\\\",\\n  \\\"company_name\\\": \\\"Fraunhofer Institute for Wind Energy Systems IWES\\\",\\n  \\\"job_responsibilities\\\": [\\n    \\\"Develop validation methods for offshore wind turbines.\\\",\\n    \\\"Research suitable methods and implement them in Python.\\\",\\n    \\\"Evaluate added value and usability of validation methods on test benches.\\\",\\n    \\\"Model and simulate offshore wind turbines.\\\",\\n    \\\"Further develop existing Modelica Library for Wind Turbines (MoWiT) models.\\\",\\n    \\\"Set up and evaluate MoWiT simulations, including design basis and load cases.\\\",\\n    \\\"Generate synthetic simulation data for model validation.\\\",\\n    \\\"Compare simulation data with measurement data from test benches and wind turbines.\\\",\\n    \\\"Document findings in academic publications and present at conferences/trade fairs.\\\",\\n    \\\"Assist with project acquisitions through research.\\\"\\n  ],\\n  \\\"job_requirements\\\": [\\n    \\\"Completed diploma or master's degree with a focus on wind energy.\\\",\\n    \\\"Experience in wind turbine simulation, modeling, and programming (e.g. Modelica, Python, C).\\\",\\n    \\\"Additional knowledge of offshore wind turbines (hydrodynamics, wave theories) is advantageous.\\\",\\n    \\\"Knowledge of verification and validation methods, ideally in offshore wind energy (not mandatory).\\\",\\n    \\\"Good command of German and English.\\\"\\n  ],\\n  \\\"job_location\\\": \\\"Bremerhaven, Germany\\\",\\n  \\\"posting_date\\\": \\\"2025-10-05\\\",\\n  \\\"job_type\\\": \\\"Limited contract (3 years), 39 hours/week, part-time possible, preferably close to full-time\\\",\\n  \\\"experience_level\\\": \\\"Early Career / Graduate (with relevant degree and some experience through studies or placements)\\\",\\n  \\\"skills_required\\\": [\\n    \\\"Wind turbine simulation\\\",\\n    \\\"Modeling\\\",\\n    \\\"Programming (Modelica, Python, C)\\\",\\n    \\\"Offshore wind energy knowledge (hydrodynamics, wave theories)\\\",\\n    \\\"Verification and validation methods\\\",\\n    \\\"German language\\\",\\n    \\\"English language\\\"\\n  ],\\n  \\\"contact_person\\\": \\\"Ms. Madeleine Gra\\u00dfmann\\\",\\n  \\\"contact_email_or_linkedin\\\": \\\"personal@iwes.fraunhofer.de\\\",\\n  \\\"salary_info\\\": \\\"Appointment, remuneration and social security benefits based on the public-sector collective wage agreement (TV\\u00f6D); performance-based variable remuneration components possible.\\\",\\n  \\\"language_requirements\\\": \\\"Good command of German and English.\\\",\\n  \\\"keywords\\\": [\\n    \\\"Wind energy\\\",\\n    \\\"Offshore wind turbines\\\",\\n    \\\"Simulation\\\",\\n    \\\"Validation\\\",\\n    \\\"Modelica Library\\\",\\n    \\\"MoWiT\\\",\\n    \\\"Python\\\",\\n    \\\"Research\\\",\\n    \\\"Engineering\\\",\\n    \\\"Hydrodynamics\\\",\\n    \\\"Wave theories\\\"\\n  ],\\n  \\\"company_website\\\": \\\"https://www.fraunhofer.com\\\",\\n  \\\"job_url\\\": \\\"https://s.fhg.de/5ei\\\"\\n}\""
   ]
  },
  {
   "cell_type": "code",
   "execution_count": 8,
   "id": "3ba75fe5",
   "metadata": {},
   "outputs": [
    {
     "name": "stdout",
     "output_type": "stream",
     "text": [
      "{\n",
      "  \"job_title\": \"Engineer Modeling & Validation of Wind Turbine Simulation Models\",\n",
      "  \"company_name\": \"Fraunhofer Institute for Wind Energy Systems IWES\",\n",
      "  \"job_responsibilities\": [\n",
      "    \"Develop validation methods for offshore wind turbines.\",\n",
      "    \"Research suitable methods and implement them in Python.\",\n",
      "    \"Evaluate added value and usability of validation methods on test benches.\",\n",
      "    \"Model and simulate offshore wind turbines.\",\n",
      "    \"Further develop existing Modelica Library for Wind Turbines (MoWiT) models.\",\n",
      "    \"Set up and evaluate MoWiT simulations, including design basis and load cases.\",\n",
      "    \"Generate synthetic simulation data for model validation.\",\n",
      "    \"Compare simulation data with measurement data from test benches and wind turbines.\",\n",
      "    \"Document findings in academic publications and present at conferences/trade fairs.\",\n",
      "    \"Assist with project acquisitions through research.\"\n",
      "  ],\n",
      "  \"job_requirements\": [\n",
      "    \"Completed diploma or master's degree with a focus on wind energy.\",\n",
      "    \"Experience in wind turbine simulation, modeling, and programming (e.g. Modelica, Python, C).\",\n",
      "    \"Additional knowledge of offshore wind turbines (hydrodynamics, wave theories) is advantageous.\",\n",
      "    \"Knowledge of verification and validation methods, ideally in offshore wind energy (not mandatory).\",\n",
      "    \"Good command of German and English.\"\n",
      "  ],\n",
      "  \"job_location\": \"Bremerhaven, Germany\",\n",
      "  \"posting_date\": \"2025-10-05\",\n",
      "  \"job_type\": \"Limited contract (3 years), 39 hours/week, part-time possible, preferably close to full-time\",\n",
      "  \"experience_level\": \"Early Career / Graduate (with relevant degree and some experience through studies or placements)\",\n",
      "  \"skills_required\": [\n",
      "    \"Wind turbine simulation\",\n",
      "    \"Modeling\",\n",
      "    \"Programming (Modelica, Python, C)\",\n",
      "    \"Offshore wind energy knowledge (hydrodynamics, wave theories)\",\n",
      "    \"Verification and validation methods\",\n",
      "    \"German language\",\n",
      "    \"English language\"\n",
      "  ],\n",
      "  \"contact_person\": \"Ms. Madeleine Graßmann\",\n",
      "  \"contact_email_or_linkedin\": \"personal@iwes.fraunhofer.de\",\n",
      "  \"salary_info\": \"Appointment, remuneration and social security benefits based on the public-sector collective wage agreement (TVöD); performance-based variable remuneration components possible.\",\n",
      "  \"language_requirements\": \"Good command of German and English.\",\n",
      "  \"keywords\": [\n",
      "    \"Wind energy\",\n",
      "    \"Offshore wind turbines\",\n",
      "    \"Simulation\",\n",
      "    \"Validation\",\n",
      "    \"Modelica Library\",\n",
      "    \"MoWiT\",\n",
      "    \"Python\",\n",
      "    \"Research\",\n",
      "    \"Engineering\",\n",
      "    \"Hydrodynamics\",\n",
      "    \"Wave theories\"\n",
      "  ],\n",
      "  \"company_website\": \"https://www.fraunhofer.com\",\n",
      "  \"job_url\": \"https://s.fhg.de/5ei\"\n",
      "}\n"
     ]
    }
   ],
   "source": [
    "print(text)"
   ]
  },
  {
   "cell_type": "markdown",
   "id": "b9b8611a",
   "metadata": {},
   "source": [
    "### Firecrawl Tests"
   ]
  },
  {
   "cell_type": "code",
   "execution_count": null,
   "id": "14e1e133",
   "metadata": {},
   "outputs": [
    {
     "data": {
      "text/plain": [
       "True"
      ]
     },
     "execution_count": 3,
     "metadata": {},
     "output_type": "execute_result"
    }
   ],
   "source": [
    "import os\n",
    "import dotenv\n",
    "from langchain_community.document_loaders.firecrawl import FireCrawlLoader\n",
    "from google.adk.tools.langchain_tool import LangchainTool\n",
    "from google.adk import Agent, Runner\n",
    "from google.adk.sessions import InMemorySessionService\n",
    "from google.genai import types\n",
    "\n",
    "dotenv.load_dotenv()\n",
    "\n",
    "loader = FireCrawlLoader(\n",
    "    url = \"https://firecrawl.dev\",\n",
    "    mode = \"scrape\",\n",
    ")\n",
    "# Ensure TAVILY_API_KEY is set in your environment\n",
    "if not os.getenv(\"FIRECRAWL_API_KEY\"):\n",
    "    print(\"Warning: FIRECRAWL_API_KEY environment variable not set.\")\n",
    "\n",
    "APP_NAME = \"scrape_app\"\n",
    "USER_ID = \"1234\"\n",
    "SESSION_ID = \"session1234\"\n",
    "\n",
    "# docs = []\n",
    "# docs_lazy = loader.lazy_load()\n",
    "\n",
    "# # async variant:\n",
    "# # docs_lazy = await loader.alazy_load()\n",
    "\n",
    "# for doc in docs_lazy:\n",
    "#     docs.append(doc)\n",
    "# print(docs[0].page_content[:100])\n",
    "# print(docs[0].metadata)\n",
    "\n",
    "adk_firecrawl_tool = LangchainTool(tool=loader)\n",
    "\n",
    "# Define the ADK agent, including the wrapped tool\n",
    "my_agent = Agent(\n",
    "    name=\"langchain_tool_agent\",\n",
    "    model=\"gemini-2.5-flash-preview-04-17\",\n",
    "    description=\"Agent to answer questions using Firecrawl.\",\n",
    "    instruction=\"I can answer your questions by searching the internet. Just ask me anything!\",\n",
    "    tools=[adk_firecrawl_tool]\n",
    ")\n",
    "\n",
    "session_service = InMemorySessionService()\n",
    "session = session_service.create_session(app_name=APP_NAME, user_id=USER_ID, session_id=SESSION_ID)\n",
    "runner = Runner(agent=my_agent, app_name=APP_NAME, session_service=session_service)\n",
    "\n",
    "\n",
    "# Agent Interaction\n",
    "def call_agent(query):\n",
    "    content = types.Content(role='user', parts=[types.Part(text=query)])\n",
    "    events = runner.run(user_id=USER_ID, session_id=SESSION_ID, new_message=content)\n",
    "\n",
    "    for event in events:\n",
    "        if event.is_final_response():\n",
    "            final_response = event.content.parts[0].text\n",
    "            print(\"Agent Response: \", final_response)\n",
    "\n",
    "call_agent(\"Scrape the latest news from firecrawl.dev\")\n"
   ]
  },
  {
   "cell_type": "code",
   "execution_count": null,
   "id": "9dd144cb",
   "metadata": {},
   "outputs": [],
   "source": []
  },
  {
   "cell_type": "code",
   "execution_count": null,
   "id": "12b1cdc5",
   "metadata": {},
   "outputs": [],
   "source": []
  },
  {
   "cell_type": "markdown",
   "id": "f1899745",
   "metadata": {},
   "source": [
    "### Word File page count"
   ]
  },
  {
   "cell_type": "code",
   "execution_count": 22,
   "id": "de081a82",
   "metadata": {},
   "outputs": [],
   "source": [
    "from docx import Document\n",
    "\n",
    "# read the document\n",
    "doc = Document(\"data/SajjalaSreekarReddy_CV.docx\")"
   ]
  },
  {
   "cell_type": "code",
   "execution_count": 7,
   "id": "a1d898b1",
   "metadata": {},
   "outputs": [],
   "source": [
    "# get the text from the document as one string\n",
    "text = \"\\n\".join([p.text for p in doc.paragraphs if p.text.strip() != \"\"])"
   ]
  },
  {
   "cell_type": "code",
   "execution_count": 16,
   "id": "48101723",
   "metadata": {},
   "outputs": [
    {
     "name": "stdout",
     "output_type": "stream",
     "text": [
      "Number of pages: 1\n"
     ]
    }
   ],
   "source": [
    "num_pages = sum(p.contains_page_break for p in doc.paragraphs) + 1\n",
    "print(f\"Number of pages: {num_pages}\")"
   ]
  },
  {
   "cell_type": "code",
   "execution_count": null,
   "id": "56683895",
   "metadata": {},
   "outputs": [],
   "source": [
    "# modify the text in the document (preserving formatting)\n",
    "for p in doc.paragraphs:\n",
    "    for run in p.runs:\n",
    "        if \"Sreekar Reddy Sajjala\" in run.text:\n",
    "            run.text = run.text.replace(\n",
    "                \"Sreekar Reddy Sajjala\",\n",
    "                \"Sreekar Reddy Sajjala (Modified)\"\n",
    "            )\n",
    "            break\n",
    "\n",
    "# # save the modified document\n",
    "# doc.save(\"data/SajjalaSreekarReddy_CV_modified.docx\")"
   ]
  }
 ],
 "metadata": {
  "kernelspec": {
   "display_name": "Python 3",
   "language": "python",
   "name": "python3"
  },
  "language_info": {
   "codemirror_mode": {
    "name": "ipython",
    "version": 3
   },
   "file_extension": ".py",
   "mimetype": "text/x-python",
   "name": "python",
   "nbconvert_exporter": "python",
   "pygments_lexer": "ipython3",
   "version": "3.13.2"
  }
 },
 "nbformat": 4,
 "nbformat_minor": 5
}
